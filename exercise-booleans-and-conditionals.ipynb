{
 "cells": [
  {
   "cell_type": "markdown",
   "id": "c85f342e",
   "metadata": {
    "papermill": {
     "duration": 0.006755,
     "end_time": "2025-08-22T02:39:48.514933",
     "exception": false,
     "start_time": "2025-08-22T02:39:48.508178",
     "status": "completed"
    },
    "tags": []
   },
   "source": [
    "**This notebook is an exercise in the [Python](https://www.kaggle.com/learn/python) course.  You can reference the tutorial at [this link](https://www.kaggle.com/colinmorris/booleans-and-conditionals).**\n",
    "\n",
    "---\n"
   ]
  },
  {
   "cell_type": "markdown",
   "id": "f23d46c8",
   "metadata": {
    "papermill": {
     "duration": 0.005538,
     "end_time": "2025-08-22T02:39:48.526612",
     "exception": false,
     "start_time": "2025-08-22T02:39:48.521074",
     "status": "completed"
    },
    "tags": []
   },
   "source": [
    "In this exercise, you'll put to work what you have learned about booleans and conditionals.\n",
    "\n",
    "To get started, **run the setup code below** before writing your own code (and if you leave this notebook and come back later, don't forget to run the setup code again)."
   ]
  },
  {
   "cell_type": "code",
   "execution_count": 1,
   "id": "315fc14e",
   "metadata": {
    "execution": {
     "iopub.execute_input": "2025-08-22T02:39:48.539292Z",
     "iopub.status.busy": "2025-08-22T02:39:48.538962Z",
     "iopub.status.idle": "2025-08-22T02:39:50.394561Z",
     "shell.execute_reply": "2025-08-22T02:39:50.393383Z"
    },
    "papermill": {
     "duration": 1.863784,
     "end_time": "2025-08-22T02:39:50.396153",
     "exception": false,
     "start_time": "2025-08-22T02:39:48.532369",
     "status": "completed"
    },
    "tags": []
   },
   "outputs": [
    {
     "name": "stdout",
     "output_type": "stream",
     "text": [
      "Setup complete.\n"
     ]
    }
   ],
   "source": [
    "from learntools.core import binder; binder.bind(globals())\n",
    "from learntools.python.ex3 import *\n",
    "print('Setup complete.')"
   ]
  },
  {
   "cell_type": "markdown",
   "id": "714bac9e",
   "metadata": {
    "papermill": {
     "duration": 0.00652,
     "end_time": "2025-08-22T02:39:50.409181",
     "exception": false,
     "start_time": "2025-08-22T02:39:50.402661",
     "status": "completed"
    },
    "tags": []
   },
   "source": [
    "# 1.\n",
    "\n",
    "Many programming languages have [`sign`](https://en.wikipedia.org/wiki/Sign_function) available as a built-in function. Python doesn't, but we can define our own!\n",
    "\n",
    "In the cell below, define a function called `sign` which takes a numerical argument and returns -1 if it's negative, 1 if it's positive, and 0 if it's 0."
   ]
  },
  {
   "cell_type": "markdown",
   "id": "141c3745",
   "metadata": {
    "papermill": {
     "duration": 0.005699,
     "end_time": "2025-08-22T02:39:50.420897",
     "exception": false,
     "start_time": "2025-08-22T02:39:50.415198",
     "status": "completed"
    },
    "tags": []
   },
   "source": []
  },
  {
   "cell_type": "code",
   "execution_count": 2,
   "id": "3ef83015",
   "metadata": {
    "execution": {
     "iopub.execute_input": "2025-08-22T02:39:50.434273Z",
     "iopub.status.busy": "2025-08-22T02:39:50.433832Z",
     "iopub.status.idle": "2025-08-22T02:39:50.442473Z",
     "shell.execute_reply": "2025-08-22T02:39:50.441668Z"
    },
    "papermill": {
     "duration": 0.016937,
     "end_time": "2025-08-22T02:39:50.443822",
     "exception": false,
     "start_time": "2025-08-22T02:39:50.426885",
     "status": "completed"
    },
    "tags": []
   },
   "outputs": [
    {
     "data": {
      "application/javascript": [
       "parent.postMessage({\"jupyterEvent\": \"custom.exercise_interaction\", \"data\": {\"outcomeType\": 1, \"valueTowardsCompletion\": 0.2, \"interactionType\": 1, \"questionType\": 2, \"questionId\": \"1_SignFunctionProblem\", \"learnToolsVersion\": \"0.3.5\", \"failureMessage\": \"\", \"exceptionClass\": \"\", \"trace\": \"\"}}, \"*\")"
      ],
      "text/plain": [
       "<IPython.core.display.Javascript object>"
      ]
     },
     "metadata": {},
     "output_type": "display_data"
    },
    {
     "data": {
      "text/markdown": [
       "<span style=\"color:#33cc33\">Correct</span>"
      ],
      "text/plain": [
       "Correct"
      ]
     },
     "metadata": {},
     "output_type": "display_data"
    }
   ],
   "source": [
    "# Your code goes here. Define a function called 'sign'\n",
    "def sign (n):\n",
    "    if n < 0 :\n",
    "        return -1\n",
    "    elif n > 0 :\n",
    "        return 1\n",
    "    elif n == 0 :\n",
    "        return 0\n",
    "# Check your answer\n",
    "q1.check()"
   ]
  },
  {
   "cell_type": "code",
   "execution_count": 3,
   "id": "814a7958",
   "metadata": {
    "execution": {
     "iopub.execute_input": "2025-08-22T02:39:50.457270Z",
     "iopub.status.busy": "2025-08-22T02:39:50.456964Z",
     "iopub.status.idle": "2025-08-22T02:39:50.460807Z",
     "shell.execute_reply": "2025-08-22T02:39:50.460127Z"
    },
    "papermill": {
     "duration": 0.01201,
     "end_time": "2025-08-22T02:39:50.462059",
     "exception": false,
     "start_time": "2025-08-22T02:39:50.450049",
     "status": "completed"
    },
    "tags": []
   },
   "outputs": [],
   "source": [
    "#q1.solution()"
   ]
  },
  {
   "cell_type": "markdown",
   "id": "eade57c2",
   "metadata": {
    "papermill": {
     "duration": 0.005978,
     "end_time": "2025-08-22T02:39:50.474829",
     "exception": false,
     "start_time": "2025-08-22T02:39:50.468851",
     "status": "completed"
    },
    "tags": []
   },
   "source": [
    "# 2.\n",
    "\n",
    "We've decided to add \"logging\" to our `to_smash` function from the previous exercise."
   ]
  },
  {
   "cell_type": "code",
   "execution_count": 4,
   "id": "da30afdf",
   "metadata": {
    "execution": {
     "iopub.execute_input": "2025-08-22T02:39:50.489383Z",
     "iopub.status.busy": "2025-08-22T02:39:50.489031Z",
     "iopub.status.idle": "2025-08-22T02:39:50.496086Z",
     "shell.execute_reply": "2025-08-22T02:39:50.495198Z"
    },
    "papermill": {
     "duration": 0.015975,
     "end_time": "2025-08-22T02:39:50.497409",
     "exception": false,
     "start_time": "2025-08-22T02:39:50.481434",
     "status": "completed"
    },
    "tags": []
   },
   "outputs": [
    {
     "name": "stdout",
     "output_type": "stream",
     "text": [
      "Splitting 91 candies\n"
     ]
    },
    {
     "data": {
      "text/plain": [
       "1"
      ]
     },
     "execution_count": 4,
     "metadata": {},
     "output_type": "execute_result"
    }
   ],
   "source": [
    "def to_smash(total_candies):\n",
    "    \"\"\"Return the number of leftover candies that must be smashed after distributing\n",
    "    the given number of candies evenly between 3 friends.\n",
    "    \n",
    "    >>> to_smash(91)\n",
    "    1\n",
    "    \"\"\"\n",
    "    print(\"Splitting\", total_candies, \"candies\")\n",
    "    return total_candies % 3\n",
    "\n",
    "to_smash(91)"
   ]
  },
  {
   "cell_type": "markdown",
   "id": "fed1b37d",
   "metadata": {
    "papermill": {
     "duration": 0.006188,
     "end_time": "2025-08-22T02:39:50.510000",
     "exception": false,
     "start_time": "2025-08-22T02:39:50.503812",
     "status": "completed"
    },
    "tags": []
   },
   "source": [
    "What happens if we call it with `total_candies = 1`?"
   ]
  },
  {
   "cell_type": "markdown",
   "id": "b3ac8b3c",
   "metadata": {
    "papermill": {
     "duration": 0.005912,
     "end_time": "2025-08-22T02:39:50.522117",
     "exception": false,
     "start_time": "2025-08-22T02:39:50.516205",
     "status": "completed"
    },
    "tags": []
   },
   "source": []
  },
  {
   "cell_type": "code",
   "execution_count": 5,
   "id": "d0cc4b83",
   "metadata": {
    "execution": {
     "iopub.execute_input": "2025-08-22T02:39:50.535636Z",
     "iopub.status.busy": "2025-08-22T02:39:50.535342Z",
     "iopub.status.idle": "2025-08-22T02:39:50.541509Z",
     "shell.execute_reply": "2025-08-22T02:39:50.540723Z"
    },
    "papermill": {
     "duration": 0.014573,
     "end_time": "2025-08-22T02:39:50.542805",
     "exception": false,
     "start_time": "2025-08-22T02:39:50.528232",
     "status": "completed"
    },
    "tags": []
   },
   "outputs": [
    {
     "name": "stdout",
     "output_type": "stream",
     "text": [
      "Splitting 1 candies\n"
     ]
    },
    {
     "data": {
      "text/plain": [
       "1"
      ]
     },
     "execution_count": 5,
     "metadata": {},
     "output_type": "execute_result"
    }
   ],
   "source": [
    "to_smash(1)"
   ]
  },
  {
   "cell_type": "markdown",
   "id": "26d33087",
   "metadata": {
    "papermill": {
     "duration": 0.006241,
     "end_time": "2025-08-22T02:39:50.555664",
     "exception": false,
     "start_time": "2025-08-22T02:39:50.549423",
     "status": "completed"
    },
    "tags": []
   },
   "source": [
    "That isn't great grammar!\n",
    "\n",
    "Modify the definition in the cell below to correct the grammar of our print statement. (If there's only one candy, we should use the singular \"candy\" instead of the plural \"candies\")"
   ]
  },
  {
   "cell_type": "code",
   "execution_count": 6,
   "id": "875c5484",
   "metadata": {
    "execution": {
     "iopub.execute_input": "2025-08-22T02:39:50.569846Z",
     "iopub.status.busy": "2025-08-22T02:39:50.569564Z",
     "iopub.status.idle": "2025-08-22T02:39:50.576551Z",
     "shell.execute_reply": "2025-08-22T02:39:50.575807Z"
    },
    "papermill": {
     "duration": 0.015891,
     "end_time": "2025-08-22T02:39:50.577901",
     "exception": false,
     "start_time": "2025-08-22T02:39:50.562010",
     "status": "completed"
    },
    "tags": []
   },
   "outputs": [
    {
     "name": "stdout",
     "output_type": "stream",
     "text": [
      "Splitting 91 candies\n",
      "Splitting 1 candy\n"
     ]
    },
    {
     "data": {
      "text/plain": [
       "1"
      ]
     },
     "execution_count": 6,
     "metadata": {},
     "output_type": "execute_result"
    }
   ],
   "source": [
    "def to_smash(total_candies):\n",
    "    \"\"\"Return the number of leftover candies that must be smashed after distributing\n",
    "    the given number of candies evenly between 3 friends.\n",
    "    \n",
    "    >>> to_smash(91)\n",
    "    1\n",
    "    \"\"\"\n",
    "    if total_candies == 1 :\n",
    "        print ('Splitting', total_candies, 'candy')\n",
    "    else :\n",
    "        print(\"Splitting\", total_candies, \"candies\")\n",
    "    return total_candies % 3\n",
    "\n",
    "to_smash(91)\n",
    "to_smash(1)"
   ]
  },
  {
   "cell_type": "markdown",
   "id": "f11fc2df",
   "metadata": {
    "papermill": {
     "duration": 0.006147,
     "end_time": "2025-08-22T02:39:50.590734",
     "exception": false,
     "start_time": "2025-08-22T02:39:50.584587",
     "status": "completed"
    },
    "tags": []
   },
   "source": [
    "To get credit for completing this problem, and to see the official answer, run the code cell below."
   ]
  },
  {
   "cell_type": "code",
   "execution_count": 7,
   "id": "5edc7923",
   "metadata": {
    "execution": {
     "iopub.execute_input": "2025-08-22T02:39:50.606033Z",
     "iopub.status.busy": "2025-08-22T02:39:50.605760Z",
     "iopub.status.idle": "2025-08-22T02:39:50.612922Z",
     "shell.execute_reply": "2025-08-22T02:39:50.612098Z"
    },
    "papermill": {
     "duration": 0.016859,
     "end_time": "2025-08-22T02:39:50.614742",
     "exception": false,
     "start_time": "2025-08-22T02:39:50.597883",
     "status": "completed"
    },
    "tags": []
   },
   "outputs": [
    {
     "data": {
      "application/javascript": [
       "parent.postMessage({\"jupyterEvent\": \"custom.exercise_interaction\", \"data\": {\"interactionType\": 3, \"questionType\": 4, \"questionId\": \"2_PluralizationProblem\", \"learnToolsVersion\": \"0.3.5\", \"valueTowardsCompletion\": 0.0, \"failureMessage\": \"\", \"exceptionClass\": \"\", \"trace\": \"\", \"outcomeType\": 4}}, \"*\")"
      ],
      "text/plain": [
       "<IPython.core.display.Javascript object>"
      ]
     },
     "metadata": {},
     "output_type": "display_data"
    },
    {
     "data": {
      "text/markdown": [
       "<span style=\"color:#33cc99\">Solution:</span> A straightforward (and totally fine) solution is to replace the original `print` call with:\n",
       "\n",
       "```python\n",
       "if total_candies == 1:\n",
       "    print(\"Splitting 1 candy\")\n",
       "else:\n",
       "    print(\"Splitting\", total_candies, \"candies\")\n",
       "```\n",
       "\n",
       "Here's a slightly more succinct solution using a conditional expression:\n",
       "\n",
       "```python\n",
       "print(\"Splitting\", total_candies, \"candy\" if total_candies == 1 else \"candies\")\n",
       "```"
      ],
      "text/plain": [
       "Solution: A straightforward (and totally fine) solution is to replace the original `print` call with:\n",
       "\n",
       "```python\n",
       "if total_candies == 1:\n",
       "    print(\"Splitting 1 candy\")\n",
       "else:\n",
       "    print(\"Splitting\", total_candies, \"candies\")\n",
       "```\n",
       "\n",
       "Here's a slightly more succinct solution using a conditional expression:\n",
       "\n",
       "```python\n",
       "print(\"Splitting\", total_candies, \"candy\" if total_candies == 1 else \"candies\")\n",
       "```"
      ]
     },
     "metadata": {},
     "output_type": "display_data"
    }
   ],
   "source": [
    "# Check your answer (Run this code cell to receive credit!)\n",
    "q2.solution()"
   ]
  },
  {
   "cell_type": "markdown",
   "id": "741e7270",
   "metadata": {
    "papermill": {
     "duration": 0.006642,
     "end_time": "2025-08-22T02:39:50.628936",
     "exception": false,
     "start_time": "2025-08-22T02:39:50.622294",
     "status": "completed"
    },
    "tags": []
   },
   "source": [
    "# 3. <span title=\"A bit spicy\" style=\"color: darkgreen \">🌶️</span>\n",
    "\n",
    "In the tutorial, we talked about deciding whether we're prepared for the weather. I said that I'm safe from today's weather if...\n",
    "- I have an umbrella...\n",
    "- or if the rain isn't too heavy and I have a hood...\n",
    "- otherwise, I'm still fine unless it's raining *and* it's a workday\n",
    "\n",
    "The function below uses our first attempt at turning this logic into a Python expression. I claimed that there was a bug in that code. Can you find it?\n",
    "\n",
    "To prove that `prepared_for_weather` is buggy, come up with a set of inputs where either:\n",
    "- the function returns `False` (but should have returned `True`), or\n",
    "- the function returned `True` (but should have returned `False`).\n",
    "\n",
    "To get credit for completing this question, your code should return a <font color='#33cc33'>Correct</font> result."
   ]
  },
  {
   "cell_type": "code",
   "execution_count": 8,
   "id": "0de373e2",
   "metadata": {
    "execution": {
     "iopub.execute_input": "2025-08-22T02:39:50.644098Z",
     "iopub.status.busy": "2025-08-22T02:39:50.643826Z",
     "iopub.status.idle": "2025-08-22T02:39:50.653129Z",
     "shell.execute_reply": "2025-08-22T02:39:50.652306Z"
    },
    "papermill": {
     "duration": 0.018362,
     "end_time": "2025-08-22T02:39:50.654626",
     "exception": false,
     "start_time": "2025-08-22T02:39:50.636264",
     "status": "completed"
    },
    "tags": []
   },
   "outputs": [
    {
     "name": "stdout",
     "output_type": "stream",
     "text": [
      "False\n"
     ]
    },
    {
     "data": {
      "application/javascript": [
       "parent.postMessage({\"jupyterEvent\": \"custom.exercise_interaction\", \"data\": {\"outcomeType\": 1, \"valueTowardsCompletion\": 0.2, \"interactionType\": 1, \"questionType\": 1, \"questionId\": \"3_WeatherDebug\", \"learnToolsVersion\": \"0.3.5\", \"failureMessage\": \"\", \"exceptionClass\": \"\", \"trace\": \"\"}}, \"*\")"
      ],
      "text/plain": [
       "<IPython.core.display.Javascript object>"
      ]
     },
     "metadata": {},
     "output_type": "display_data"
    },
    {
     "data": {
      "text/markdown": [
       "<span style=\"color:#33cc33\">Correct:</span> \n",
       "\n",
       "One example of a failing test case is:\n",
       "\n",
       "```python\n",
       "have_umbrella = False\n",
       "rain_level = 0.0\n",
       "have_hood = False\n",
       "is_workday = False\n",
       "```\n",
       "\n",
       "Clearly we're prepared for the weather in this case. It's not raining. Not only that, it's not a workday, so we don't even need to leave the house! But our function will return False on these inputs.\n",
       "\n",
       "The key problem is that Python implictly parenthesizes the last part as:\n",
       "\n",
       "```python\n",
       "(not (rain_level > 0)) and is_workday\n",
       "```\n",
       "\n",
       "Whereas what we were trying to express would look more like:\n",
       "\n",
       "```python\n",
       "not (rain_level > 0 and is_workday)\n",
       "```\n"
      ],
      "text/plain": [
       "Correct: \n",
       "\n",
       "One example of a failing test case is:\n",
       "\n",
       "```python\n",
       "have_umbrella = False\n",
       "rain_level = 0.0\n",
       "have_hood = False\n",
       "is_workday = False\n",
       "```\n",
       "\n",
       "Clearly we're prepared for the weather in this case. It's not raining. Not only that, it's not a workday, so we don't even need to leave the house! But our function will return False on these inputs.\n",
       "\n",
       "The key problem is that Python implictly parenthesizes the last part as:\n",
       "\n",
       "```python\n",
       "(not (rain_level > 0)) and is_workday\n",
       "```\n",
       "\n",
       "Whereas what we were trying to express would look more like:\n",
       "\n",
       "```python\n",
       "not (rain_level > 0 and is_workday)\n",
       "```"
      ]
     },
     "metadata": {},
     "output_type": "display_data"
    }
   ],
   "source": [
    "def prepared_for_weather(have_umbrella, rain_level, have_hood, is_workday):\n",
    "    # Don't change this code. Our goal is just to find the bug, not fix it!\n",
    "    return have_umbrella or rain_level < 5 and have_hood or not rain_level > 0 and is_workday\n",
    "\n",
    "# Change the values of these inputs so they represent a case where prepared_for_weather\n",
    "# returns the wrong answer.\n",
    "have_umbrella = False\n",
    "rain_level = 0\n",
    "have_hood = False\n",
    "is_workday = False\n",
    "\n",
    "# Check what the function returns given the current values of the variables above\n",
    "actual = prepared_for_weather(have_umbrella, rain_level, have_hood, is_workday)\n",
    "print(actual)\n",
    "\n",
    "# Check your answer\n",
    "q3.check()"
   ]
  },
  {
   "cell_type": "code",
   "execution_count": 9,
   "id": "13e93cbd",
   "metadata": {
    "execution": {
     "iopub.execute_input": "2025-08-22T02:39:50.670605Z",
     "iopub.status.busy": "2025-08-22T02:39:50.670176Z",
     "iopub.status.idle": "2025-08-22T02:39:50.673915Z",
     "shell.execute_reply": "2025-08-22T02:39:50.673054Z"
    },
    "papermill": {
     "duration": 0.012927,
     "end_time": "2025-08-22T02:39:50.675259",
     "exception": false,
     "start_time": "2025-08-22T02:39:50.662332",
     "status": "completed"
    },
    "tags": []
   },
   "outputs": [],
   "source": [
    "#q3.hint()\n",
    "#q3.solution()"
   ]
  },
  {
   "cell_type": "markdown",
   "id": "8d05726d",
   "metadata": {
    "papermill": {
     "duration": 0.006698,
     "end_time": "2025-08-22T02:39:50.689254",
     "exception": false,
     "start_time": "2025-08-22T02:39:50.682556",
     "status": "completed"
    },
    "tags": []
   },
   "source": [
    "# 4.\n",
    "\n",
    "The function `is_negative` below is implemented correctly - it returns True if the given number is negative and False otherwise.\n",
    "\n",
    "However, it's more verbose than it needs to be. We can actually reduce the number of lines of code in this function by *75%* while keeping the same behaviour. \n",
    "\n",
    "See if you can come up with an equivalent body that uses just **one line** of code, and put it in the function `concise_is_negative`. (HINT: you don't even need Python's ternary syntax)"
   ]
  },
  {
   "cell_type": "code",
   "execution_count": 10,
   "id": "3b102f4c",
   "metadata": {
    "execution": {
     "iopub.execute_input": "2025-08-22T02:39:50.704828Z",
     "iopub.status.busy": "2025-08-22T02:39:50.704080Z",
     "iopub.status.idle": "2025-08-22T02:39:50.711252Z",
     "shell.execute_reply": "2025-08-22T02:39:50.710475Z"
    },
    "papermill": {
     "duration": 0.016466,
     "end_time": "2025-08-22T02:39:50.712673",
     "exception": false,
     "start_time": "2025-08-22T02:39:50.696207",
     "status": "completed"
    },
    "tags": []
   },
   "outputs": [
    {
     "data": {
      "application/javascript": [
       "parent.postMessage({\"jupyterEvent\": \"custom.exercise_interaction\", \"data\": {\"outcomeType\": 1, \"valueTowardsCompletion\": 0.2, \"interactionType\": 1, \"questionType\": 2, \"questionId\": \"4_ConciseIsNegative\", \"learnToolsVersion\": \"0.3.5\", \"failureMessage\": \"\", \"exceptionClass\": \"\", \"trace\": \"\"}}, \"*\")"
      ],
      "text/plain": [
       "<IPython.core.display.Javascript object>"
      ]
     },
     "metadata": {},
     "output_type": "display_data"
    },
    {
     "data": {
      "text/markdown": [
       "<span style=\"color:#33cc33\">Correct</span>"
      ],
      "text/plain": [
       "Correct"
      ]
     },
     "metadata": {},
     "output_type": "display_data"
    }
   ],
   "source": [
    "def is_negative(number):\n",
    "    if number < 0 :\n",
    "        return True\n",
    "    else:\n",
    "        return False\n",
    "\n",
    "def concise_is_negative(number):\n",
    "    pass \n",
    "    return number < 0  #Your code goes here (try to keep it to one line!)\n",
    "\n",
    "# Check your answer\n",
    "q4.check()"
   ]
  },
  {
   "cell_type": "code",
   "execution_count": 11,
   "id": "c2bd835f",
   "metadata": {
    "execution": {
     "iopub.execute_input": "2025-08-22T02:39:50.728929Z",
     "iopub.status.busy": "2025-08-22T02:39:50.728210Z",
     "iopub.status.idle": "2025-08-22T02:39:50.734766Z",
     "shell.execute_reply": "2025-08-22T02:39:50.733973Z"
    },
    "papermill": {
     "duration": 0.015988,
     "end_time": "2025-08-22T02:39:50.736038",
     "exception": false,
     "start_time": "2025-08-22T02:39:50.720050",
     "status": "completed"
    },
    "tags": []
   },
   "outputs": [
    {
     "data": {
      "application/javascript": [
       "parent.postMessage({\"jupyterEvent\": \"custom.exercise_interaction\", \"data\": {\"interactionType\": 3, \"questionType\": 2, \"questionId\": \"4_ConciseIsNegative\", \"learnToolsVersion\": \"0.3.5\", \"valueTowardsCompletion\": 0.0, \"failureMessage\": \"\", \"exceptionClass\": \"\", \"trace\": \"\", \"outcomeType\": 4}}, \"*\")"
      ],
      "text/plain": [
       "<IPython.core.display.Javascript object>"
      ]
     },
     "metadata": {},
     "output_type": "display_data"
    },
    {
     "data": {
      "text/markdown": [
       "<span style=\"color:#33cc99\">Solution:</span> \n",
       "```python\n",
       "return number < 0\n",
       "```"
      ],
      "text/plain": [
       "Solution: \n",
       "```python\n",
       "return number < 0\n",
       "```"
      ]
     },
     "metadata": {},
     "output_type": "display_data"
    }
   ],
   "source": [
    "# q4.hint()\n",
    "q4.solution()"
   ]
  },
  {
   "cell_type": "markdown",
   "id": "dd277011",
   "metadata": {
    "papermill": {
     "duration": 0.007634,
     "end_time": "2025-08-22T02:39:50.751644",
     "exception": false,
     "start_time": "2025-08-22T02:39:50.744010",
     "status": "completed"
    },
    "tags": []
   },
   "source": [
    "# 5a.\n",
    "\n",
    "The boolean variables `ketchup`, `mustard` and `onion` represent whether a customer wants a particular topping on their hot dog. We want to implement a number of boolean functions that correspond to some yes-or-no questions about the customer's order. For example:"
   ]
  },
  {
   "cell_type": "code",
   "execution_count": 12,
   "id": "064056ea",
   "metadata": {
    "execution": {
     "iopub.execute_input": "2025-08-22T02:39:50.830561Z",
     "iopub.status.busy": "2025-08-22T02:39:50.830217Z",
     "iopub.status.idle": "2025-08-22T02:39:50.834376Z",
     "shell.execute_reply": "2025-08-22T02:39:50.833613Z"
    },
    "papermill": {
     "duration": 0.076666,
     "end_time": "2025-08-22T02:39:50.835741",
     "exception": false,
     "start_time": "2025-08-22T02:39:50.759075",
     "status": "completed"
    },
    "tags": []
   },
   "outputs": [],
   "source": [
    "def onionless(ketchup, mustard, onion):\n",
    "    \"\"\"Return whether the customer doesn't want onions.\n",
    "    \"\"\"\n",
    "    return not onion"
   ]
  },
  {
   "cell_type": "code",
   "execution_count": 13,
   "id": "d0465306",
   "metadata": {
    "execution": {
     "iopub.execute_input": "2025-08-22T02:39:50.851767Z",
     "iopub.status.busy": "2025-08-22T02:39:50.851473Z",
     "iopub.status.idle": "2025-08-22T02:39:50.858395Z",
     "shell.execute_reply": "2025-08-22T02:39:50.857735Z"
    },
    "papermill": {
     "duration": 0.016386,
     "end_time": "2025-08-22T02:39:50.859670",
     "exception": false,
     "start_time": "2025-08-22T02:39:50.843284",
     "status": "completed"
    },
    "tags": []
   },
   "outputs": [
    {
     "data": {
      "application/javascript": [
       "parent.postMessage({\"jupyterEvent\": \"custom.exercise_interaction\", \"data\": {\"outcomeType\": 1, \"valueTowardsCompletion\": 0.2, \"interactionType\": 1, \"questionType\": 2, \"questionId\": \"5.1_AllToppings\", \"learnToolsVersion\": \"0.3.5\", \"failureMessage\": \"\", \"exceptionClass\": \"\", \"trace\": \"\"}}, \"*\")"
      ],
      "text/plain": [
       "<IPython.core.display.Javascript object>"
      ]
     },
     "metadata": {},
     "output_type": "display_data"
    },
    {
     "data": {
      "text/markdown": [
       "<span style=\"color:#33cc33\">Correct</span>"
      ],
      "text/plain": [
       "Correct"
      ]
     },
     "metadata": {},
     "output_type": "display_data"
    }
   ],
   "source": [
    "def wants_all_toppings(ketchup, mustard, onion):\n",
    "    \"\"\"Return whether the customer wants \"the works\" (all 3 toppings)\n",
    "    \"\"\"\n",
    "    pass \n",
    "    return ketchup and mustard and onion\n",
    "\n",
    "# Check your answer\n",
    "q5.a.check()"
   ]
  },
  {
   "cell_type": "code",
   "execution_count": 14,
   "id": "01e9241a",
   "metadata": {
    "execution": {
     "iopub.execute_input": "2025-08-22T02:39:50.878117Z",
     "iopub.status.busy": "2025-08-22T02:39:50.877840Z",
     "iopub.status.idle": "2025-08-22T02:39:50.884460Z",
     "shell.execute_reply": "2025-08-22T02:39:50.883637Z"
    },
    "papermill": {
     "duration": 0.01805,
     "end_time": "2025-08-22T02:39:50.885756",
     "exception": false,
     "start_time": "2025-08-22T02:39:50.867706",
     "status": "completed"
    },
    "tags": []
   },
   "outputs": [
    {
     "data": {
      "application/javascript": [
       "parent.postMessage({\"jupyterEvent\": \"custom.exercise_interaction\", \"data\": {\"interactionType\": 2, \"questionType\": 2, \"questionId\": \"5.1_AllToppings\", \"learnToolsVersion\": \"0.3.5\", \"valueTowardsCompletion\": 0.0, \"failureMessage\": \"\", \"exceptionClass\": \"\", \"trace\": \"\", \"outcomeType\": 4}}, \"*\")"
      ],
      "text/plain": [
       "<IPython.core.display.Javascript object>"
      ]
     },
     "metadata": {},
     "output_type": "display_data"
    },
    {
     "data": {
      "text/markdown": [
       "<span style=\"color:#3366cc\">Hint:</span> You'll need to use the `and` operator."
      ],
      "text/plain": [
       "Hint: You'll need to use the `and` operator."
      ]
     },
     "metadata": {},
     "output_type": "display_data"
    }
   ],
   "source": [
    "q5.a.hint()\n",
    "#q5.a.solution()"
   ]
  },
  {
   "cell_type": "markdown",
   "id": "809c712d",
   "metadata": {
    "papermill": {
     "duration": 0.007689,
     "end_time": "2025-08-22T02:39:50.901400",
     "exception": false,
     "start_time": "2025-08-22T02:39:50.893711",
     "status": "completed"
    },
    "tags": []
   },
   "source": [
    "# 5b.\n",
    "\n",
    "For the next function, fill in the body to match the English description in the docstring. "
   ]
  },
  {
   "cell_type": "code",
   "execution_count": 15,
   "id": "8b5852ef",
   "metadata": {
    "execution": {
     "iopub.execute_input": "2025-08-22T02:39:50.918851Z",
     "iopub.status.busy": "2025-08-22T02:39:50.918494Z",
     "iopub.status.idle": "2025-08-22T02:39:50.926487Z",
     "shell.execute_reply": "2025-08-22T02:39:50.925558Z"
    },
    "papermill": {
     "duration": 0.018387,
     "end_time": "2025-08-22T02:39:50.927962",
     "exception": false,
     "start_time": "2025-08-22T02:39:50.909575",
     "status": "completed"
    },
    "tags": []
   },
   "outputs": [
    {
     "data": {
      "application/javascript": [
       "parent.postMessage({\"jupyterEvent\": \"custom.exercise_interaction\", \"data\": {\"outcomeType\": 1, \"valueTowardsCompletion\": 0.2, \"interactionType\": 1, \"questionType\": 2, \"questionId\": \"5.2_PlainDog\", \"learnToolsVersion\": \"0.3.5\", \"failureMessage\": \"\", \"exceptionClass\": \"\", \"trace\": \"\"}}, \"*\")"
      ],
      "text/plain": [
       "<IPython.core.display.Javascript object>"
      ]
     },
     "metadata": {},
     "output_type": "display_data"
    },
    {
     "data": {
      "text/markdown": [
       "<span style=\"color:#33cc33\">Correct:</span> \n",
       "\n",
       "One solution looks like:\n",
       "```python\n",
       "return not ketchup and not mustard and not onion\n",
       "```\n",
       "\n",
       "We can also [\"factor out\" the nots](https://en.wikipedia.org/wiki/De_Morgan%27s_laws) to get:\n",
       "\n",
       "```python\n",
       "return not (ketchup or mustard or onion)\n",
       "```"
      ],
      "text/plain": [
       "Correct: \n",
       "\n",
       "One solution looks like:\n",
       "```python\n",
       "return not ketchup and not mustard and not onion\n",
       "```\n",
       "\n",
       "We can also [\"factor out\" the nots](https://en.wikipedia.org/wiki/De_Morgan%27s_laws) to get:\n",
       "\n",
       "```python\n",
       "return not (ketchup or mustard or onion)\n",
       "```"
      ]
     },
     "metadata": {},
     "output_type": "display_data"
    }
   ],
   "source": [
    "def wants_plain_hotdog(ketchup, mustard, onion):\n",
    "    \"\"\"Return whether the customer wants a plain hot dog with no toppings.\n",
    "    \"\"\"\n",
    "    pass\n",
    "    return not (ketchup or mustard or onion)\n",
    "\n",
    "# Check your answer\n",
    "q5.b.check()"
   ]
  },
  {
   "cell_type": "code",
   "execution_count": 16,
   "id": "e1dde150",
   "metadata": {
    "execution": {
     "iopub.execute_input": "2025-08-22T02:39:50.945718Z",
     "iopub.status.busy": "2025-08-22T02:39:50.945409Z",
     "iopub.status.idle": "2025-08-22T02:39:50.949392Z",
     "shell.execute_reply": "2025-08-22T02:39:50.948512Z"
    },
    "papermill": {
     "duration": 0.014498,
     "end_time": "2025-08-22T02:39:50.950858",
     "exception": false,
     "start_time": "2025-08-22T02:39:50.936360",
     "status": "completed"
    },
    "tags": []
   },
   "outputs": [],
   "source": [
    "#q5.b.hint()\n",
    "#q5.b.solution()"
   ]
  },
  {
   "cell_type": "markdown",
   "id": "8b155209",
   "metadata": {
    "papermill": {
     "duration": 0.007978,
     "end_time": "2025-08-22T02:39:50.967003",
     "exception": false,
     "start_time": "2025-08-22T02:39:50.959025",
     "status": "completed"
    },
    "tags": []
   },
   "source": [
    "# 5c.\n",
    "\n",
    "You know what to do: for the next function, fill in the body to match the English description in the docstring."
   ]
  },
  {
   "cell_type": "code",
   "execution_count": 17,
   "id": "ba75f71f",
   "metadata": {
    "execution": {
     "iopub.execute_input": "2025-08-22T02:39:50.984411Z",
     "iopub.status.busy": "2025-08-22T02:39:50.984035Z",
     "iopub.status.idle": "2025-08-22T02:39:50.991390Z",
     "shell.execute_reply": "2025-08-22T02:39:50.990475Z"
    },
    "papermill": {
     "duration": 0.017839,
     "end_time": "2025-08-22T02:39:50.992825",
     "exception": false,
     "start_time": "2025-08-22T02:39:50.974986",
     "status": "completed"
    },
    "tags": []
   },
   "outputs": [
    {
     "data": {
      "application/javascript": [
       "parent.postMessage({\"jupyterEvent\": \"custom.exercise_interaction\", \"data\": {\"outcomeType\": 1, \"valueTowardsCompletion\": 0.2, \"interactionType\": 1, \"questionType\": 2, \"questionId\": \"5.3_OneSauce\", \"learnToolsVersion\": \"0.3.5\", \"failureMessage\": \"\", \"exceptionClass\": \"\", \"trace\": \"\"}}, \"*\")"
      ],
      "text/plain": [
       "<IPython.core.display.Javascript object>"
      ]
     },
     "metadata": {},
     "output_type": "display_data"
    },
    {
     "data": {
      "text/markdown": [
       "<span style=\"color:#33cc33\">Correct</span>"
      ],
      "text/plain": [
       "Correct"
      ]
     },
     "metadata": {},
     "output_type": "display_data"
    }
   ],
   "source": [
    "def exactly_one_sauce(ketchup, mustard, onion):\n",
    "    \"\"\"Return whether the customer wants either ketchup or mustard, but not both.\n",
    "    (You may be familiar with this operation under the name \"exclusive or\")\n",
    "    \"\"\"\n",
    "    pass\n",
    "    return not (ketchup and mustard) and onion #or (ketchup and not mustard)\n",
    "\n",
    "# Check your answer\n",
    "q5.c.check()"
   ]
  },
  {
   "cell_type": "code",
   "execution_count": 18,
   "id": "7a0b5dfd",
   "metadata": {
    "execution": {
     "iopub.execute_input": "2025-08-22T02:39:51.011662Z",
     "iopub.status.busy": "2025-08-22T02:39:51.011004Z",
     "iopub.status.idle": "2025-08-22T02:39:51.017528Z",
     "shell.execute_reply": "2025-08-22T02:39:51.016716Z"
    },
    "papermill": {
     "duration": 0.01703,
     "end_time": "2025-08-22T02:39:51.018817",
     "exception": false,
     "start_time": "2025-08-22T02:39:51.001787",
     "status": "completed"
    },
    "tags": []
   },
   "outputs": [
    {
     "data": {
      "application/javascript": [
       "parent.postMessage({\"jupyterEvent\": \"custom.exercise_interaction\", \"data\": {\"interactionType\": 2, \"questionType\": 2, \"questionId\": \"5.3_OneSauce\", \"learnToolsVersion\": \"0.3.5\", \"valueTowardsCompletion\": 0.0, \"failureMessage\": \"\", \"exceptionClass\": \"\", \"trace\": \"\", \"outcomeType\": 4}}, \"*\")"
      ],
      "text/plain": [
       "<IPython.core.display.Javascript object>"
      ]
     },
     "metadata": {},
     "output_type": "display_data"
    },
    {
     "data": {
      "text/markdown": [
       "<span style=\"color:#3366cc\">Hint:</span> There are exactly two ways to set ketchup and mustard to make this true. What are they?"
      ],
      "text/plain": [
       "Hint: There are exactly two ways to set ketchup and mustard to make this true. What are they?"
      ]
     },
     "metadata": {},
     "output_type": "display_data"
    }
   ],
   "source": [
    "q5.c.hint()\n",
    "#q5.c.solution()"
   ]
  },
  {
   "cell_type": "markdown",
   "id": "b295e379",
   "metadata": {
    "papermill": {
     "duration": 0.007906,
     "end_time": "2025-08-22T02:39:51.035351",
     "exception": false,
     "start_time": "2025-08-22T02:39:51.027445",
     "status": "completed"
    },
    "tags": []
   },
   "source": [
    "# 6. <span title=\"A bit spicy\" style=\"color: darkgreen \">🌶️</span>\n",
    "\n",
    "We’ve seen that calling `bool()` on an integer returns `False` if it’s equal to 0 and `True` otherwise. What happens if we call `int()` on a bool? Try it out in the notebook cell below.\n",
    "\n",
    "Can you take advantage of this to write a succinct function that corresponds to the English sentence \"does the customer want exactly one topping?\"?"
   ]
  },
  {
   "cell_type": "code",
   "execution_count": 19,
   "id": "c0e80232",
   "metadata": {
    "execution": {
     "iopub.execute_input": "2025-08-22T02:39:51.053056Z",
     "iopub.status.busy": "2025-08-22T02:39:51.052749Z",
     "iopub.status.idle": "2025-08-22T02:39:51.060317Z",
     "shell.execute_reply": "2025-08-22T02:39:51.059494Z"
    },
    "papermill": {
     "duration": 0.018251,
     "end_time": "2025-08-22T02:39:51.061806",
     "exception": false,
     "start_time": "2025-08-22T02:39:51.043555",
     "status": "completed"
    },
    "tags": []
   },
   "outputs": [
    {
     "data": {
      "application/javascript": [
       "parent.postMessage({\"jupyterEvent\": \"custom.exercise_interaction\", \"data\": {\"outcomeType\": 1, \"valueTowardsCompletion\": 0.2, \"interactionType\": 1, \"questionType\": 2, \"questionId\": \"6_OneTopping\", \"learnToolsVersion\": \"0.3.5\", \"failureMessage\": \"\", \"exceptionClass\": \"\", \"trace\": \"\"}}, \"*\")"
      ],
      "text/plain": [
       "<IPython.core.display.Javascript object>"
      ]
     },
     "metadata": {},
     "output_type": "display_data"
    },
    {
     "data": {
      "text/markdown": [
       "<span style=\"color:#33cc33\">Correct:</span> \n",
       "\n",
       "This condition would be pretty complicated to express using just `and`, `or` and `not`, but using boolean-to-integer conversion gives us this short solution:\n",
       "```python\n",
       "return (int(ketchup) + int(mustard) + int(onion)) == 1\n",
       "```\n",
       "\n",
       "Fun fact: we don't technically need to call `int` on the arguments. Just by doing addition with booleans, Python implicitly does the integer conversion. So we could also write...\n",
       "\n",
       "```python\n",
       "return (ketchup + mustard + onion) == 1\n",
       "```"
      ],
      "text/plain": [
       "Correct: \n",
       "\n",
       "This condition would be pretty complicated to express using just `and`, `or` and `not`, but using boolean-to-integer conversion gives us this short solution:\n",
       "```python\n",
       "return (int(ketchup) + int(mustard) + int(onion)) == 1\n",
       "```\n",
       "\n",
       "Fun fact: we don't technically need to call `int` on the arguments. Just by doing addition with booleans, Python implicitly does the integer conversion. So we could also write...\n",
       "\n",
       "```python\n",
       "return (ketchup + mustard + onion) == 1\n",
       "```"
      ]
     },
     "metadata": {},
     "output_type": "display_data"
    }
   ],
   "source": [
    "def exactly_one_topping(ketchup, mustard, onion):\n",
    "    \"\"\"Return whether the customer wants exactly one of the three available toppings\n",
    "    on their hot dog.\n",
    "    \"\"\"\n",
    "    pass\n",
    "    return (ketchup + mustard + onion) == 1\n",
    "\n",
    "# Check your answer\n",
    "q6.check()"
   ]
  },
  {
   "cell_type": "code",
   "execution_count": 20,
   "id": "32eaf9f9",
   "metadata": {
    "execution": {
     "iopub.execute_input": "2025-08-22T02:39:51.080662Z",
     "iopub.status.busy": "2025-08-22T02:39:51.079819Z",
     "iopub.status.idle": "2025-08-22T02:39:51.086301Z",
     "shell.execute_reply": "2025-08-22T02:39:51.085536Z"
    },
    "papermill": {
     "duration": 0.017066,
     "end_time": "2025-08-22T02:39:51.087545",
     "exception": false,
     "start_time": "2025-08-22T02:39:51.070479",
     "status": "completed"
    },
    "tags": []
   },
   "outputs": [
    {
     "data": {
      "application/javascript": [
       "parent.postMessage({\"jupyterEvent\": \"custom.exercise_interaction\", \"data\": {\"interactionType\": 3, \"questionType\": 2, \"questionId\": \"6_OneTopping\", \"learnToolsVersion\": \"0.3.5\", \"valueTowardsCompletion\": 0.0, \"failureMessage\": \"\", \"exceptionClass\": \"\", \"trace\": \"\", \"outcomeType\": 4}}, \"*\")"
      ],
      "text/plain": [
       "<IPython.core.display.Javascript object>"
      ]
     },
     "metadata": {},
     "output_type": "display_data"
    },
    {
     "data": {
      "text/markdown": [
       "<span style=\"color:#33cc99\">Solution:</span> This condition would be pretty complicated to express using just `and`, `or` and `not`, but using boolean-to-integer conversion gives us this short solution:\n",
       "```python\n",
       "return (int(ketchup) + int(mustard) + int(onion)) == 1\n",
       "```\n",
       "\n",
       "Fun fact: we don't technically need to call `int` on the arguments. Just by doing addition with booleans, Python implicitly does the integer conversion. So we could also write...\n",
       "\n",
       "```python\n",
       "return (ketchup + mustard + onion) == 1\n",
       "```"
      ],
      "text/plain": [
       "Solution: This condition would be pretty complicated to express using just `and`, `or` and `not`, but using boolean-to-integer conversion gives us this short solution:\n",
       "```python\n",
       "return (int(ketchup) + int(mustard) + int(onion)) == 1\n",
       "```\n",
       "\n",
       "Fun fact: we don't technically need to call `int` on the arguments. Just by doing addition with booleans, Python implicitly does the integer conversion. So we could also write...\n",
       "\n",
       "```python\n",
       "return (ketchup + mustard + onion) == 1\n",
       "```"
      ]
     },
     "metadata": {},
     "output_type": "display_data"
    }
   ],
   "source": [
    "# q6.hint()\n",
    "q6.solution()"
   ]
  },
  {
   "cell_type": "markdown",
   "id": "22461927",
   "metadata": {
    "papermill": {
     "duration": 0.008452,
     "end_time": "2025-08-22T02:39:51.104760",
     "exception": false,
     "start_time": "2025-08-22T02:39:51.096308",
     "status": "completed"
    },
    "tags": []
   },
   "source": [
    "# 7. <span title=\"A bit spicy\" style=\"color: darkgreen \">🌶️</span> (Optional)\n",
    "\n",
    "In this problem we'll be working with a simplified version of [blackjack](https://en.wikipedia.org/wiki/Blackjack) (aka twenty-one). In this version there is one player (who you'll control) and a dealer. Play proceeds as follows:\n",
    "\n",
    "- The player is dealt two face-up cards. The dealer is dealt one face-up card.\n",
    "- The player may ask to be dealt another card ('hit') as many times as they wish. If the sum of their cards exceeds 21, they lose the round immediately.\n",
    "- The dealer then deals additional cards to himself until either:\n",
    "    - the sum of the dealer's cards exceeds 21, in which case the player wins the round\n",
    "    - the sum of the dealer's cards is greater than or equal to 17. If the player's total is greater than the dealer's, the player wins. Otherwise, the dealer wins (even in case of a tie).\n",
    "    \n",
    "When calculating the sum of cards, Jack, Queen, and King count for 10. Aces can count as 1 or 11 (when referring to a player's \"total\" above, we mean the largest total that can be made without exceeding 21. So e.g. A+8 = 19, A+8+8 = 17)\n",
    "\n",
    "For this problem, you'll write a function representing the player's decision-making strategy in this game. We've provided a very unintelligent implementation below:"
   ]
  },
  {
   "cell_type": "code",
   "execution_count": 21,
   "id": "63c4a517",
   "metadata": {
    "execution": {
     "iopub.execute_input": "2025-08-22T02:39:51.124049Z",
     "iopub.status.busy": "2025-08-22T02:39:51.123795Z",
     "iopub.status.idle": "2025-08-22T02:39:51.128580Z",
     "shell.execute_reply": "2025-08-22T02:39:51.127663Z"
    },
    "papermill": {
     "duration": 0.016636,
     "end_time": "2025-08-22T02:39:51.130045",
     "exception": false,
     "start_time": "2025-08-22T02:39:51.113409",
     "status": "completed"
    },
    "tags": []
   },
   "outputs": [],
   "source": [
    "def should_hit(dealer_total, player_total, player_low_aces, player_high_aces):\n",
    "    \"\"\"Return True if the player should hit (request another card) given the current game\n",
    "    state, or False if the player should stay.\n",
    "    When calculating a hand's total value, we count aces as \"high\" (with value 11) if doing so\n",
    "    doesn't bring the total above 21, otherwise we count them as low (with value 1). \n",
    "    For example, if the player's hand is {A, A, A, 7}, we will count it as 11 + 1 + 1 + 7,\n",
    "    and therefore set player_total=20, player_low_aces=2, player_high_aces=1.\n",
    "    \"\"\"\n",
    "    return False"
   ]
  },
  {
   "cell_type": "markdown",
   "id": "69cb3c12",
   "metadata": {
    "papermill": {
     "duration": 0.008682,
     "end_time": "2025-08-22T02:39:51.148416",
     "exception": false,
     "start_time": "2025-08-22T02:39:51.139734",
     "status": "completed"
    },
    "tags": []
   },
   "source": [
    "This very conservative agent *always* sticks with the hand of two cards that they're dealt.\n",
    "\n",
    "We'll be simulating games between your player agent and our own dealer agent by calling your function.\n",
    "\n",
    "Try running the function below to see an example of a simulated game:"
   ]
  },
  {
   "cell_type": "code",
   "execution_count": 22,
   "id": "2434c41c",
   "metadata": {
    "execution": {
     "iopub.execute_input": "2025-08-22T02:39:51.169017Z",
     "iopub.status.busy": "2025-08-22T02:39:51.168170Z",
     "iopub.status.idle": "2025-08-22T02:39:51.173000Z",
     "shell.execute_reply": "2025-08-22T02:39:51.172077Z"
    },
    "papermill": {
     "duration": 0.01689,
     "end_time": "2025-08-22T02:39:51.174232",
     "exception": false,
     "start_time": "2025-08-22T02:39:51.157342",
     "status": "completed"
    },
    "tags": []
   },
   "outputs": [
    {
     "name": "stdout",
     "output_type": "stream",
     "text": [
      "Player starts with Q and 2 (total = 12)\n",
      "Dealer starts with Q\n",
      "\n",
      "__Player's turn__\n",
      "Player stays\n",
      "\n",
      "__Dealer's turn__\n",
      "Dealer hits and receives 2. (total = 12)\n",
      "Dealer hits and receives 4. (total = 16)\n",
      "Dealer hits and receives 2. (total = 18)\n",
      "Dealer stands.\n",
      "Dealer wins. 18 >= 12\n"
     ]
    }
   ],
   "source": [
    "q7.simulate_one_game()"
   ]
  },
  {
   "cell_type": "markdown",
   "id": "2a0c8fa8",
   "metadata": {
    "papermill": {
     "duration": 0.008647,
     "end_time": "2025-08-22T02:39:51.191858",
     "exception": false,
     "start_time": "2025-08-22T02:39:51.183211",
     "status": "completed"
    },
    "tags": []
   },
   "source": [
    "The real test of your agent's mettle is their average win rate over many games. Try calling the function below to simulate 50000 games of blackjack (it may take a couple seconds):"
   ]
  },
  {
   "cell_type": "code",
   "execution_count": 23,
   "id": "38b6a98f",
   "metadata": {
    "execution": {
     "iopub.execute_input": "2025-08-22T02:39:51.210641Z",
     "iopub.status.busy": "2025-08-22T02:39:51.210290Z",
     "iopub.status.idle": "2025-08-22T02:39:52.065220Z",
     "shell.execute_reply": "2025-08-22T02:39:52.064342Z"
    },
    "papermill": {
     "duration": 0.866096,
     "end_time": "2025-08-22T02:39:52.066691",
     "exception": false,
     "start_time": "2025-08-22T02:39:51.200595",
     "status": "completed"
    },
    "tags": []
   },
   "outputs": [
    {
     "name": "stdout",
     "output_type": "stream",
     "text": [
      "Player won 18986 out of 50000 games (win rate = 38.0%)\n"
     ]
    }
   ],
   "source": [
    "q7.simulate(n_games=50000)"
   ]
  },
  {
   "cell_type": "markdown",
   "id": "77a28ed3",
   "metadata": {
    "papermill": {
     "duration": 0.008626,
     "end_time": "2025-08-22T02:39:52.084266",
     "exception": false,
     "start_time": "2025-08-22T02:39:52.075640",
     "status": "completed"
    },
    "tags": []
   },
   "source": [
    "Our dumb agent that completely ignores the game state still manages to win shockingly often!\n",
    "\n",
    "Try adding some more smarts to the `should_hit` function and see how it affects the results."
   ]
  },
  {
   "cell_type": "code",
   "execution_count": 24,
   "id": "d341b8de",
   "metadata": {
    "execution": {
     "iopub.execute_input": "2025-08-22T02:39:52.103574Z",
     "iopub.status.busy": "2025-08-22T02:39:52.102785Z",
     "iopub.status.idle": "2025-08-22T02:39:52.926722Z",
     "shell.execute_reply": "2025-08-22T02:39:52.925714Z"
    },
    "papermill": {
     "duration": 0.834969,
     "end_time": "2025-08-22T02:39:52.928063",
     "exception": false,
     "start_time": "2025-08-22T02:39:52.093094",
     "status": "completed"
    },
    "tags": []
   },
   "outputs": [
    {
     "name": "stdout",
     "output_type": "stream",
     "text": [
      "Player won 19162 out of 50000 games (win rate = 38.3%)\n"
     ]
    }
   ],
   "source": [
    "def should_hit(dealer_total, player_total, player_low_aces, player_high_aces):\n",
    "    \"\"\"Return True if the player should hit (request another card) given the current game\n",
    "    state, or False if the player should stay.\n",
    "    When calculating a hand's total value, we count aces as \"high\" (with value 11) if doing so\n",
    "    doesn't bring the total above 21, otherwise we count them as low (with value 1). \n",
    "    For example, if the player's hand is {A, A, A, 7}, we will count it as 11 + 1 + 1 + 7,\n",
    "    and therefore set player_total=20, player_low_aces=2, player_high_aces=1.\n",
    "    \"\"\"\n",
    "    return False\n",
    "\n",
    "q7.simulate(n_games=50000)"
   ]
  },
  {
   "cell_type": "markdown",
   "id": "d7702c6b",
   "metadata": {
    "papermill": {
     "duration": 0.008738,
     "end_time": "2025-08-22T02:39:52.946370",
     "exception": false,
     "start_time": "2025-08-22T02:39:52.937632",
     "status": "completed"
    },
    "tags": []
   },
   "source": [
    "# Keep Going\n",
    "\n",
    "Learn about **[lists and tuples](https://www.kaggle.com/colinmorris/lists)** to handle multiple items of data in a systematic way."
   ]
  },
  {
   "cell_type": "markdown",
   "id": "8e23137e",
   "metadata": {
    "papermill": {
     "duration": 0.00881,
     "end_time": "2025-08-22T02:39:52.964673",
     "exception": false,
     "start_time": "2025-08-22T02:39:52.955863",
     "status": "completed"
    },
    "tags": []
   },
   "source": [
    "---\n",
    "\n",
    "\n",
    "\n",
    "\n",
    "*Have questions or comments? Visit the [course discussion forum](https://www.kaggle.com/learn/python/discussion) to chat with other learners.*"
   ]
  }
 ],
 "metadata": {
  "kaggle": {
   "accelerator": "none",
   "dataSources": [],
   "isGpuEnabled": false,
   "isInternetEnabled": false,
   "language": "python",
   "sourceType": "notebook"
  },
  "kernelspec": {
   "display_name": "Python 3",
   "language": "python",
   "name": "python3"
  },
  "language_info": {
   "codemirror_mode": {
    "name": "ipython",
    "version": 3
   },
   "file_extension": ".py",
   "mimetype": "text/x-python",
   "name": "python",
   "nbconvert_exporter": "python",
   "pygments_lexer": "ipython3",
   "version": "3.11.13"
  },
  "learntools_metadata": {
   "lesson_index": 2,
   "type": "exercise"
  },
  "papermill": {
   "default_parameters": {},
   "duration": 10.056218,
   "end_time": "2025-08-22T02:39:53.495231",
   "environment_variables": {},
   "exception": null,
   "input_path": "__notebook__.ipynb",
   "output_path": "__notebook__.ipynb",
   "parameters": {},
   "start_time": "2025-08-22T02:39:43.439013",
   "version": "2.6.0"
  }
 },
 "nbformat": 4,
 "nbformat_minor": 5
}
